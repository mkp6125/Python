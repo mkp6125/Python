{
 "cells": [
  {
   "cell_type": "code",
   "execution_count": null,
   "id": "4178d0eb",
   "metadata": {},
   "outputs": [],
   "source": []
  },
  {
   "cell_type": "markdown",
   "id": "93d0f401",
   "metadata": {},
   "source": [
    "## 1. \n",
    "* Write a function to compute 5/0 and use try/except to catch the exceptions"
   ]
  },
  {
   "cell_type": "code",
   "execution_count": 1,
   "id": "344cd560",
   "metadata": {},
   "outputs": [],
   "source": [
    "def func():\n",
    "    try :\n",
    "        5/0\n",
    "    except Exception as e:\n",
    "        print(e)\n",
    "   \n",
    "        "
   ]
  },
  {
   "cell_type": "code",
   "execution_count": 2,
   "id": "8766313d",
   "metadata": {},
   "outputs": [
    {
     "name": "stdout",
     "output_type": "stream",
     "text": [
      "division by zero\n"
     ]
    }
   ],
   "source": [
    "func()"
   ]
  },
  {
   "cell_type": "code",
   "execution_count": null,
   "id": "135dfdfa",
   "metadata": {},
   "outputs": [],
   "source": []
  },
  {
   "cell_type": "markdown",
   "id": "08e3fa23",
   "metadata": {},
   "source": [
    "## 2.\n",
    "* Implement a Python program to generate all sentences where subject is in \n",
    "  [\"Americans\", \"Indians\"] and verb is in [\"Play\", \"watch\"] and the object is in \n",
    "  [\"Baseball\",\"cricket\"].\n",
    "  \n",
    "  \n",
    "  \n",
    "* **Hint:** Subject,Verb and Object should be declared in the program as shown below.\n",
    "\n",
    "\n",
    "* subjects=[\"Americans \",\"Indians\"]\n",
    "* verbs=[\"play\",\"watch\"]\n",
    "* objects=[\"Baseball\",\"Cricket\"]\n",
    "\n",
    "> * **Output should come as below:**\n",
    ">   * Americans play Baseball.\n",
    ">   * Americans play Cricket.\n",
    ">   * Americans watch Baseball.\n",
    ">   * Americans watch Cricket.\n",
    ">   * Indians play Baseball.\n",
    ">   * Indians play Cricket.\n",
    ">   * Indians watch Baseball.\n",
    ">   * Indians watch Cricket."
   ]
  },
  {
   "cell_type": "code",
   "execution_count": 29,
   "id": "7a98acef",
   "metadata": {},
   "outputs": [],
   "source": [
    "subject = ['American', 'Indians']\n",
    "verb = ['Play','watch']\n",
    "object = ['Baseball', 'cricket']\n"
   ]
  },
  {
   "cell_type": "code",
   "execution_count": 30,
   "id": "65e68eee",
   "metadata": {},
   "outputs": [],
   "source": [
    "sentence  = [i +' '+ j +' '+ k for i in subject for j in verb for k in object]"
   ]
  },
  {
   "cell_type": "code",
   "execution_count": 31,
   "id": "da48a902",
   "metadata": {},
   "outputs": [
    {
     "name": "stdout",
     "output_type": "stream",
     "text": [
      "American Play Baseball\n",
      "American Play cricket\n",
      "American watch Baseball\n",
      "American watch cricket\n",
      "Indians Play Baseball\n",
      "Indians Play cricket\n",
      "Indians watch Baseball\n",
      "Indians watch cricket\n"
     ]
    }
   ],
   "source": [
    "for i in sentence:\n",
    "    print(i)"
   ]
  },
  {
   "cell_type": "code",
   "execution_count": null,
   "id": "96a6d276",
   "metadata": {},
   "outputs": [],
   "source": []
  },
  {
   "cell_type": "code",
   "execution_count": null,
   "id": "00bf3a44",
   "metadata": {},
   "outputs": [],
   "source": []
  },
  {
   "cell_type": "code",
   "execution_count": null,
   "id": "b28142a6",
   "metadata": {},
   "outputs": [],
   "source": []
  },
  {
   "cell_type": "code",
   "execution_count": null,
   "id": "4b2e3ecc",
   "metadata": {},
   "outputs": [],
   "source": []
  },
  {
   "cell_type": "code",
   "execution_count": null,
   "id": "5cafc2fa",
   "metadata": {},
   "outputs": [],
   "source": []
  },
  {
   "cell_type": "code",
   "execution_count": null,
   "id": "91c1e2ae",
   "metadata": {},
   "outputs": [],
   "source": []
  },
  {
   "cell_type": "code",
   "execution_count": null,
   "id": "f41a59b0",
   "metadata": {},
   "outputs": [],
   "source": []
  },
  {
   "cell_type": "code",
   "execution_count": null,
   "id": "fbf00951",
   "metadata": {},
   "outputs": [],
   "source": []
  },
  {
   "cell_type": "code",
   "execution_count": null,
   "id": "f30175d9",
   "metadata": {},
   "outputs": [],
   "source": []
  },
  {
   "cell_type": "code",
   "execution_count": null,
   "id": "6bda83fb",
   "metadata": {},
   "outputs": [],
   "source": []
  },
  {
   "cell_type": "code",
   "execution_count": null,
   "id": "68436e19",
   "metadata": {},
   "outputs": [],
   "source": []
  }
 ],
 "metadata": {
  "kernelspec": {
   "display_name": "Python 3 (ipykernel)",
   "language": "python",
   "name": "python3"
  },
  "language_info": {
   "codemirror_mode": {
    "name": "ipython",
    "version": 3
   },
   "file_extension": ".py",
   "mimetype": "text/x-python",
   "name": "python",
   "nbconvert_exporter": "python",
   "pygments_lexer": "ipython3",
   "version": "3.9.5"
  }
 },
 "nbformat": 4,
 "nbformat_minor": 5
}
