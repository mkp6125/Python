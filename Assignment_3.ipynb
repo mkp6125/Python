{
 "cells": [
  {
   "cell_type": "markdown",
   "id": "db064aff",
   "metadata": {},
   "source": [
    "### 1.1\n",
    "* **Write a Python Program to implement your own myreduce() function which works exactly \n",
    "  like Python's built-in function reduce()**"
   ]
  },
  {
   "cell_type": "code",
   "execution_count": 1,
   "id": "6d41073a",
   "metadata": {},
   "outputs": [],
   "source": [
    "def my_reduce(function, seq):\n",
    "    value = seq[0]\n",
    "    for i in seq[1:]:\n",
    "        value = function(value , i)\n",
    "    return value"
   ]
  },
  {
   "cell_type": "markdown",
   "id": "740eea94",
   "metadata": {},
   "source": [
    "#### Example : find the factorial of 5"
   ]
  },
  {
   "cell_type": "code",
   "execution_count": 2,
   "id": "f1a366bc",
   "metadata": {},
   "outputs": [
    {
     "data": {
      "text/plain": [
       "120"
      ]
     },
     "execution_count": 2,
     "metadata": {},
     "output_type": "execute_result"
    }
   ],
   "source": [
    "my_reduce(lambda x,y : x*y , list(range(1,6)))"
   ]
  },
  {
   "cell_type": "code",
   "execution_count": null,
   "id": "fea0e55b",
   "metadata": {},
   "outputs": [],
   "source": []
  },
  {
   "cell_type": "markdown",
   "id": "b08ff384",
   "metadata": {},
   "source": [
    "### 1.2\n",
    "\n",
    "* **Write a Python program to implement your own myfilter() function which works exactly \n",
    "  like Python's built-in function filter()**\n"
   ]
  },
  {
   "cell_type": "code",
   "execution_count": 3,
   "id": "66b6501f",
   "metadata": {},
   "outputs": [],
   "source": [
    "def my_filter(function, seq):\n",
    "    value = []\n",
    "    for i in seq:\n",
    "        if function(i):\n",
    "            value.append(i)\n",
    "    return value"
   ]
  },
  {
   "cell_type": "markdown",
   "id": "5fd11c18",
   "metadata": {},
   "source": [
    "#### Example : Find the vowels of given string \"ineuron\""
   ]
  },
  {
   "cell_type": "code",
   "execution_count": 4,
   "id": "ecf18f63",
   "metadata": {},
   "outputs": [
    {
     "data": {
      "text/plain": [
       "['i', 'e', 'u', 'o']"
      ]
     },
     "execution_count": 4,
     "metadata": {},
     "output_type": "execute_result"
    }
   ],
   "source": [
    "my_filter(lambda x : True if x in list('aeiou') else False , list('ineuron'))"
   ]
  },
  {
   "cell_type": "code",
   "execution_count": null,
   "id": "502924cd",
   "metadata": {},
   "outputs": [],
   "source": []
  },
  {
   "cell_type": "markdown",
   "id": "4bb5252f",
   "metadata": {},
   "source": [
    "## 2. \n",
    " \n",
    "*  Write List comprehensions to produce the following Lists\n",
    "\n",
    "\n",
    "\n",
    "### Pattern 1\n",
    "\n",
    "\n",
    "* **['x', 'xx', 'xxx', 'xxxx', 'y', 'yy', 'yyy', 'yyyy', 'z', 'zz', 'zzz', 'zzzz']** "
   ]
  },
  {
   "cell_type": "code",
   "execution_count": 5,
   "id": "7f2c1ae9",
   "metadata": {},
   "outputs": [
    {
     "data": {
      "text/plain": [
       "['x', 'xx', 'xxx', 'xxxx', 'y', 'yy', 'yyy', 'yyyy', 'z', 'zz', 'zzz', 'zzzz']"
      ]
     },
     "execution_count": 5,
     "metadata": {},
     "output_type": "execute_result"
    }
   ],
   "source": [
    "[i* j for i in list('xyz') for j in range(1,5)]"
   ]
  },
  {
   "cell_type": "code",
   "execution_count": null,
   "id": "c33fd8f9",
   "metadata": {},
   "outputs": [],
   "source": []
  },
  {
   "cell_type": "markdown",
   "id": "faa9f4dc",
   "metadata": {},
   "source": [
    "### Pattern 2\n",
    "\n",
    "\n",
    "* **['x', 'y', 'z', 'xx', 'yy', 'zz', 'xxx', 'yyy', 'zzz', 'xxxx', 'yyyy', 'zzzz']** "
   ]
  },
  {
   "cell_type": "code",
   "execution_count": 6,
   "id": "30b705cf",
   "metadata": {},
   "outputs": [
    {
     "data": {
      "text/plain": [
       "['x', 'y', 'z', 'xx', 'yy', 'zz', 'xxx', 'yyy', 'zzz', 'xxxx', 'yyyy', 'zzzz']"
      ]
     },
     "execution_count": 6,
     "metadata": {},
     "output_type": "execute_result"
    }
   ],
   "source": [
    "[j*i  for i in range(1,5) for j in 'xyz']"
   ]
  },
  {
   "cell_type": "code",
   "execution_count": null,
   "id": "1ca790b0",
   "metadata": {},
   "outputs": [],
   "source": []
  },
  {
   "cell_type": "markdown",
   "id": "90b6fff8",
   "metadata": {},
   "source": [
    "### Pattern 3 \n",
    "\n",
    "\n",
    "* **[[2], [3], [4], [3], [4], [5], [4], [5], [6]]** "
   ]
  },
  {
   "cell_type": "code",
   "execution_count": 7,
   "id": "75ef66f3",
   "metadata": {},
   "outputs": [
    {
     "data": {
      "text/plain": [
       "[[2], [3], [4], [3], [4], [5], [4], [5], [6]]"
      ]
     },
     "execution_count": 7,
     "metadata": {},
     "output_type": "execute_result"
    }
   ],
   "source": [
    "[[j+i]for i in range(2,5) for j in range(3)]"
   ]
  },
  {
   "cell_type": "code",
   "execution_count": null,
   "id": "321fa026",
   "metadata": {},
   "outputs": [],
   "source": []
  },
  {
   "cell_type": "markdown",
   "id": "1030c3f2",
   "metadata": {},
   "source": [
    "### Pattern 4\n",
    "\n",
    "\n",
    "* **[[3, 4, 5, 6], [4, 5, 6, 7], [5, 6, 7, 8]]**"
   ]
  },
  {
   "cell_type": "code",
   "execution_count": 8,
   "id": "0bff1787",
   "metadata": {},
   "outputs": [
    {
     "data": {
      "text/plain": [
       "[[2, 3, 4, 5], [3, 4, 5, 6], [4, 5, 6, 7]]"
      ]
     },
     "execution_count": 8,
     "metadata": {},
     "output_type": "execute_result"
    }
   ],
   "source": [
    "[[j+i for j in range(4)] for i in range(2,5)]"
   ]
  },
  {
   "cell_type": "code",
   "execution_count": null,
   "id": "fdad436d",
   "metadata": {},
   "outputs": [],
   "source": []
  },
  {
   "cell_type": "markdown",
   "id": "6f7bda02",
   "metadata": {},
   "source": [
    "### Pattern 5\n",
    "\n",
    "\n",
    "* **[(1, 1), (2, 1), (3, 1), (1, 2), (2, 2), (3, 2), (1, 3), (2, 3), (3, 3)]**"
   ]
  },
  {
   "cell_type": "code",
   "execution_count": 9,
   "id": "23fb9317",
   "metadata": {},
   "outputs": [
    {
     "data": {
      "text/plain": [
       "[(1, 1), (2, 1), (3, 1), (1, 2), (2, 2), (3, 2), (1, 3), (2, 3), (3, 3)]"
      ]
     },
     "execution_count": 9,
     "metadata": {},
     "output_type": "execute_result"
    }
   ],
   "source": [
    "[(j,i) for i in range(1,4) for j in range(1,4)]"
   ]
  },
  {
   "cell_type": "code",
   "execution_count": null,
   "id": "1ffc8800",
   "metadata": {},
   "outputs": [],
   "source": []
  },
  {
   "cell_type": "code",
   "execution_count": null,
   "id": "b23d8db3",
   "metadata": {},
   "outputs": [],
   "source": []
  }
 ],
 "metadata": {
  "kernelspec": {
   "display_name": "Python 3 (ipykernel)",
   "language": "python",
   "name": "python3"
  },
  "language_info": {
   "codemirror_mode": {
    "name": "ipython",
    "version": 3
   },
   "file_extension": ".py",
   "mimetype": "text/x-python",
   "name": "python",
   "nbconvert_exporter": "python",
   "pygments_lexer": "ipython3",
   "version": "3.9.5"
  }
 },
 "nbformat": 4,
 "nbformat_minor": 5
}
