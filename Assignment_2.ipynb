{
 "cells": [
  {
   "cell_type": "raw",
   "id": "8781cc39",
   "metadata": {},
   "source": [
    "1. Create the below pattern using nested for loop in Python\n",
    "\n",
    "*\n",
    "* *\n",
    "* * *\n",
    "* * * *\n",
    "* * * * *\n",
    "* * * *\n",
    "* * *\n",
    "* *\n",
    "*\n"
   ]
  },
  {
   "cell_type": "code",
   "execution_count": 6,
   "id": "b7c06c06",
   "metadata": {},
   "outputs": [],
   "source": [
    "def right_pyramid(num):\n",
    "    for i in range(1,num+1):\n",
    "        for j in range(0,i):\n",
    "            print('* ',end='')\n",
    "        print()\n",
    "    for m in range(num-1):\n",
    "        for n in range(num-1-m):\n",
    "            print('* ',end='')\n",
    "        print()"
   ]
  },
  {
   "cell_type": "code",
   "execution_count": 9,
   "id": "cef1cfa1",
   "metadata": {},
   "outputs": [
    {
     "name": "stdout",
     "output_type": "stream",
     "text": [
      "* \n",
      "* * \n",
      "* * * \n",
      "* * * * \n",
      "* * * * * \n",
      "* * * * \n",
      "* * * \n",
      "* * \n",
      "* \n"
     ]
    }
   ],
   "source": [
    "right_pyramid(5)"
   ]
  },
  {
   "cell_type": "markdown",
   "id": "280f87e5",
   "metadata": {},
   "source": [
    "* 2. Write a Python program to reverse a word after accepting the input from the user."
   ]
  },
  {
   "cell_type": "code",
   "execution_count": 11,
   "id": "51610589",
   "metadata": {},
   "outputs": [
    {
     "name": "stdout",
     "output_type": "stream",
     "text": [
      "Enter any words : ineuron\n",
      "Reversed words :  norueni\n"
     ]
    }
   ],
   "source": [
    "user_input = input('Enter any words : ')\n",
    "\n",
    "print('Reversed words : ', user_input[::-1])"
   ]
  },
  {
   "cell_type": "code",
   "execution_count": null,
   "id": "0f143a41",
   "metadata": {},
   "outputs": [],
   "source": []
  },
  {
   "cell_type": "code",
   "execution_count": null,
   "id": "78ab9efb",
   "metadata": {},
   "outputs": [],
   "source": []
  }
 ],
 "metadata": {
  "kernelspec": {
   "display_name": "Python 3 (ipykernel)",
   "language": "python",
   "name": "python3"
  },
  "language_info": {
   "codemirror_mode": {
    "name": "ipython",
    "version": 3
   },
   "file_extension": ".py",
   "mimetype": "text/x-python",
   "name": "python",
   "nbconvert_exporter": "python",
   "pygments_lexer": "ipython3",
   "version": "3.9.5"
  }
 },
 "nbformat": 4,
 "nbformat_minor": 5
}
