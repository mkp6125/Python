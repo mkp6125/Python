{
 "cells": [
  {
   "cell_type": "code",
   "execution_count": null,
   "id": "aa3d09e0",
   "metadata": {},
   "outputs": [],
   "source": []
  },
  {
   "cell_type": "markdown",
   "id": "9f412350",
   "metadata": {},
   "source": [
    "## **1.1**\n",
    "\n",
    "* Write a Python Program(with class concepts) to find the area of the triangle using the below formula\n",
    "\n",
    "* **area =** (s*(s-a)*(s-b)*(s-c))*** 0.5\n",
    "\n",
    "\n",
    "* Function to take the length of the sides of triangle from user should be defined in the parent \n",
    "  class and function to calculate the area should be defined in subclass"
   ]
  },
  {
   "cell_type": "code",
   "execution_count": 6,
   "id": "b7c71ea3",
   "metadata": {},
   "outputs": [
    {
     "name": "stdout",
     "output_type": "stream",
     "text": [
      "Enter first side value : 8\n",
      "Enter second side value : 15\n",
      "Enter third side value : 17\n",
      "Area of the traingle is : 60.0\n"
     ]
    }
   ],
   "source": [
    "class Sides:\n",
    "    \n",
    "    a = int(input('Enter first side value : '))\n",
    "    b = int(input('Enter second side value : '))\n",
    "    c = int(input('Enter third side value : '))\n",
    "    \n",
    "    \n",
    "class Area(Sides):   \n",
    "\n",
    "    def calculate_area(self):\n",
    "        # Calculate the semi-perimeter\n",
    "        s = (Area.a + Area.b + Area.c)/2\n",
    "        \n",
    "        # calculate area\n",
    "        area = (s*(s-Sides.a)*(s-Sides.b)*(s-Sides.c))**0.5\n",
    "        print(f'Area of the traingle is : {area}')\n",
    "        \n",
    "       \n",
    "               \n",
    "s1 = Area()\n",
    "s1.calculate_area()\n"
   ]
  },
  {
   "cell_type": "code",
   "execution_count": null,
   "id": "52638adb",
   "metadata": {},
   "outputs": [],
   "source": []
  },
  {
   "cell_type": "markdown",
   "id": "1adda78d",
   "metadata": {},
   "source": [
    "## 1.2 \n",
    "\n",
    "\n",
    "* Write a function filter_long_words() that takes a list of words and an integer n and returns \n",
    "   the list of words that are longer than n"
   ]
  },
  {
   "cell_type": "code",
   "execution_count": 52,
   "id": "b84e29b8",
   "metadata": {},
   "outputs": [],
   "source": [
    "l = ['sam','tom',5,10,8,8,10,9,'nature','beautiful'] "
   ]
  },
  {
   "cell_type": "code",
   "execution_count": 53,
   "id": "f9d1a054",
   "metadata": {},
   "outputs": [],
   "source": [
    "def filter_long_words(l):\n",
    "    count = len([i for i in l if type(i) == int ])\n",
    "    object = [j for j in l if type(j) == str if len(j) > count ]\n",
    "    return object\n",
    "    \n",
    "            "
   ]
  },
  {
   "cell_type": "code",
   "execution_count": 54,
   "id": "b6d891e6",
   "metadata": {},
   "outputs": [
    {
     "data": {
      "text/plain": [
       "['beautiful']"
      ]
     },
     "execution_count": 54,
     "metadata": {},
     "output_type": "execute_result"
    }
   ],
   "source": [
    "filter_long_words(l)"
   ]
  },
  {
   "cell_type": "code",
   "execution_count": null,
   "id": "4c871c78",
   "metadata": {},
   "outputs": [],
   "source": []
  },
  {
   "cell_type": "markdown",
   "id": "a579f2b3",
   "metadata": {},
   "source": [
    "## 2.1 \n",
    "\n",
    "*  Write a Python program using function concept that maps list of words into a list of integers \n",
    "   representing the lengths of the corresponding words.\n",
    "   \n",
    "   \n",
    "* Hint: If a list [ ab,cde,erty] is passed on to the python function output should come as [2,3,4]\n",
    "  Here 2,3 and 4 are the lengths of the words in the list."
   ]
  },
  {
   "cell_type": "code",
   "execution_count": 55,
   "id": "0cf7252e",
   "metadata": {},
   "outputs": [],
   "source": [
    "def string_to_int(lst):\n",
    "    return [len(i) for i in l]"
   ]
  },
  {
   "cell_type": "code",
   "execution_count": 56,
   "id": "2779822f",
   "metadata": {},
   "outputs": [],
   "source": [
    "l = ['ab','cde','abcdef']"
   ]
  },
  {
   "cell_type": "code",
   "execution_count": 57,
   "id": "ad1a92c4",
   "metadata": {},
   "outputs": [
    {
     "data": {
      "text/plain": [
       "[2, 3, 6]"
      ]
     },
     "execution_count": 57,
     "metadata": {},
     "output_type": "execute_result"
    }
   ],
   "source": [
    "string_to_int(l)"
   ]
  },
  {
   "cell_type": "code",
   "execution_count": null,
   "id": "5c6e00d4",
   "metadata": {},
   "outputs": [],
   "source": []
  },
  {
   "cell_type": "markdown",
   "id": "ba96d4bc",
   "metadata": {},
   "source": [
    "## 2.2 \n",
    "\n",
    "\n",
    "* Write a Python function which takes a character (i.e. a string of length 1) and returns True if \n",
    "  it is a vowel, False otherwise."
   ]
  },
  {
   "cell_type": "code",
   "execution_count": 58,
   "id": "866904d6",
   "metadata": {},
   "outputs": [],
   "source": [
    "def is_vowel(char):\n",
    "    if char in list('aeiou'):\n",
    "        return True\n",
    "    else : return False"
   ]
  },
  {
   "cell_type": "code",
   "execution_count": 65,
   "id": "6d68cc1d",
   "metadata": {},
   "outputs": [
    {
     "data": {
      "text/plain": [
       "True"
      ]
     },
     "execution_count": 65,
     "metadata": {},
     "output_type": "execute_result"
    }
   ],
   "source": [
    "is_vowel('i')"
   ]
  },
  {
   "cell_type": "code",
   "execution_count": null,
   "id": "2be81896",
   "metadata": {},
   "outputs": [],
   "source": []
  },
  {
   "cell_type": "code",
   "execution_count": null,
   "id": "4dc762a2",
   "metadata": {},
   "outputs": [],
   "source": []
  }
 ],
 "metadata": {
  "kernelspec": {
   "display_name": "Python 3 (ipykernel)",
   "language": "python",
   "name": "python3"
  },
  "language_info": {
   "codemirror_mode": {
    "name": "ipython",
    "version": 3
   },
   "file_extension": ".py",
   "mimetype": "text/x-python",
   "name": "python",
   "nbconvert_exporter": "python",
   "pygments_lexer": "ipython3",
   "version": "3.9.5"
  }
 },
 "nbformat": 4,
 "nbformat_minor": 5
}
